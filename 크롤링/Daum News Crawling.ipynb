{
 "cells": [
  {
   "cell_type": "code",
   "execution_count": null,
   "id": "6963b220",
   "metadata": {},
   "outputs": [],
   "source": [
    "# Daum 뉴스 크롤링 하기"
   ]
  },
  {
   "cell_type": "code",
   "execution_count": 20,
   "id": "d3f146d3",
   "metadata": {},
   "outputs": [],
   "source": [
    "import requests\n",
    "import lxml.html\n",
    "import pandas as pd\n",
    "from pandas.io import sql\n",
    "import os\n",
    "import sqlite3\n",
    "\n",
    "import re\n",
    "import string"
   ]
  },
  {
   "cell_type": "code",
   "execution_count": 24,
   "id": "756c5bb3",
   "metadata": {},
   "outputs": [],
   "source": [
    "page =1\n",
    "REG_DATE = 20210717\n",
    "max_page =0"
   ]
  },
  {
   "cell_type": "code",
   "execution_count": 28,
   "id": "4889895e",
   "metadata": {},
   "outputs": [
    {
     "name": "stdout",
     "output_type": "stream",
     "text": [
      "11 건 저장\n"
     ]
    }
   ],
   "source": [
    "def get_detail(url):\n",
    "    body = []\n",
    "    punc = '[!\"#$%&\\'()*+,-./:;<=>?[\\]^_`{|}~“”·]'\n",
    "    response = requests.get(url)\n",
    "    root = lxml.html.fromstring(response.content)\n",
    "    for p in root.xpath('//*[@id=\"harmonyContainer\"]/section/p'):\n",
    "        if p.text:\n",
    "            body.append(re.sub(punc, ' ', p.text))\n",
    "    full_body = ' '.join(body)\n",
    "    return full_body\n",
    "\n",
    "def db_select():\n",
    "    with sqlite3.connect(os.path.join('.', 'newDB')) as con:\n",
    "        try:\n",
    "            query = 'SELECT * FROM new'\n",
    "            new = pd.read_sql(query, con = con)\n",
    "        except Exception as e:\n",
    "            print(str(e))\n",
    "        return new\n",
    "\n",
    "def db_save(LIST):\n",
    "    with sqlite3.connect(os.path.join('.', 'newDB')) as con:\n",
    "        try:\n",
    "            LIST.to_sql(name = 'new', con = con, index = False, if_exists = 'append')\n",
    "        except Exception as e :\n",
    "            print(str(e))\n",
    "        print(len(LIST), '건 저장')\n",
    "\n",
    "while True:\n",
    "    response = requests.get('https://news.daum.net/breakingnews/politics?page={}&regDate={}'.format(page, REG_DATE))\n",
    "    root = lxml.html.fromstring(response.content)\n",
    "    df_list = []\n",
    "    for li in root.xpath('//*[@id=\"mArticle\"]/div[3]/ul/li'):\n",
    "        a = li.xpath('div/strong/a')[0]\n",
    "        url = a.get('href')\n",
    "        article = get_detail(url)\n",
    "        df = pd.DataFrame({\n",
    "            'URL' : [url],\n",
    "            'TITLE' : [a.text],\n",
    "            'ARTICLE' : [article]\n",
    "        })\n",
    "        df_list.append(df)\n",
    "\n",
    "    if df_list:\n",
    "        df_t = pd.concat(df_list)\n",
    "    db_save(df_t)\n",
    "\n",
    "    for a in root.xpath('//*[@id=\"mArticle\"]/div[3]/div/span/a'):\n",
    "        try:\n",
    "            num = int(a.text)\n",
    "            if max_page <= num:\n",
    "                max_page = num\n",
    "        except:\n",
    "            pass\n",
    "\n",
    "    span = root.xpath('//*[@id=\"mArticle\"]/div[3]/div/span/a[@class=\"btn_page btn_next\"]')\n",
    "    if (len(span) <=0) & (max_page < page):\n",
    "        break\n",
    "    else:\n",
    "        page = page +1\n",
    "    time.sleep(1)"
   ]
  },
  {
   "cell_type": "code",
   "execution_count": 32,
   "id": "01027e4f",
   "metadata": {},
   "outputs": [
    {
     "name": "stdout",
     "output_type": "stream",
     "text": [
      "                                       URL  \\\n",
      "0   https://v.daum.net/v/20210717001551118   \n",
      "1   https://v.daum.net/v/20210717001502116   \n",
      "2   https://v.daum.net/v/20210717001501115   \n",
      "3   https://v.daum.net/v/20210717001004089   \n",
      "4   https://v.daum.net/v/20210717000606041   \n",
      "5   https://v.daum.net/v/20210717000547030   \n",
      "6   https://v.daum.net/v/20210717000305000   \n",
      "7   https://v.daum.net/v/20210717000111965   \n",
      "8   https://v.daum.net/v/20210717000110963   \n",
      "9   https://v.daum.net/v/20210717000052945   \n",
      "10  https://v.daum.net/v/20210717000035940   \n",
      "\n",
      "                                       TITLE  \\\n",
      "0     이재명 \"공공기관 직원 특공 폐지해야..실질적 공평 이루는 게 중요\"   \n",
      "1            윤석열, 오늘 광주 방문..\"5·18은 헌법 수호 항거\"   \n",
      "2             국회, 제73주년 제헌절 경축식..사상 최초 영상 진행   \n",
      "3   '집단감염' 청해부대 전원 수송기로 조기 귀국..오늘 오전 추가검사 결과   \n",
      "4          유승민 \"진정한 민주공화국 아직도 요원..나라 새로 세워야\"   \n",
      "5            파병부대 백신 미접종 비판 잇따르자..정부 \"추후 접종\"   \n",
      "6      '최재형 입당'에 정청래 \"이준석, 윤석열에 한 방 먹여..잘했다\"   \n",
      "7        [취임 한달 톺아보기] 이슈 선점 탁월 이준석은 '양날의 칼?'   \n",
      "8              계파 우려 불식..이준석표 '야권 빅텐트' 구성 박차   \n",
      "9         [주간政談] 최재형 국민의힘 초고속 입당, \"논리가 있다고?\"   \n",
      "10      [주간政談] \"말로만 국민과 함께\"..코로나 대유행에 둔감한 국회   \n",
      "\n",
      "                                              ARTICLE  \n",
      "0    서울 뉴스1  권구용 기자   더불어민주당 대선 예비후보인 이재명 경기도지사는 1...  \n",
      "1   윤석열 전 검찰총장이 제헌절인 오늘 17일  대권 도전을 선언한 뒤 처음으로 광주를...  \n",
      "2   국회가 오늘 17일  제73주년 제헌절 행사를 거리 두기 4단계 방역 지침에 따라 ...  \n",
      "3    앵커   코로나19 집단감염이 발생한 해군 청해부대 34진 장병 전원을 공군 수송...  \n",
      "4   유 전 의원은 16일 오후 자신의 페이스북을 통해  나라를 빼앗긴 우리 선조들께서 ...  \n",
      "5   원 지사는 청해부대 코로나19 집단감염에 대해  백신 도입과 접종이 빨랐다면 출항 ...  \n",
      "6     이데일리 장구슬 기자  정청래 더불어민주당 의원이 최재형 전 감사원장이 국민의힘...  \n",
      "7    더팩트｜국회 문혜현 기자   이준석 국민의힘 대표는 평소 거침없는 언사와 적극적인...  \n",
      "8                                                      \n",
      "9    더팩트ㅣ정리 이철영 기자   이번 주 단연 화제는 최재형 전 감사원장의 국민의힘 ...  \n",
      "10   더팩트｜정리 이철영 기자   코로나19 4차 대유행에 따른 국회 상황은 어때   ...  \n"
     ]
    }
   ],
   "source": [
    "print(db_select())"
   ]
  },
  {
   "cell_type": "code",
   "execution_count": null,
   "id": "0e59e4e7",
   "metadata": {},
   "outputs": [],
   "source": []
  }
 ],
 "metadata": {
  "kernelspec": {
   "display_name": "Python 3",
   "language": "python",
   "name": "python3"
  },
  "language_info": {
   "codemirror_mode": {
    "name": "ipython",
    "version": 3
   },
   "file_extension": ".py",
   "mimetype": "text/x-python",
   "name": "python",
   "nbconvert_exporter": "python",
   "pygments_lexer": "ipython3",
   "version": "3.8.8"
  }
 },
 "nbformat": 4,
 "nbformat_minor": 5
}
