{
 "cells": [
  {
   "cell_type": "code",
   "execution_count": 1,
   "id": "efbd94df",
   "metadata": {},
   "outputs": [
    {
     "name": "stdout",
     "output_type": "stream",
     "text": [
      "Requirement already satisfied: selenium in c:\\users\\user\\anaconda3\\lib\\site-packages (3.141.0)\n",
      "Requirement already satisfied: urllib3 in c:\\users\\user\\anaconda3\\lib\\site-packages (from selenium) (1.26.4)\n"
     ]
    },
    {
     "name": "stderr",
     "output_type": "stream",
     "text": [
      "WARNING: Ignoring invalid distribution -pype1 (c:\\users\\user\\anaconda3\\lib\\site-packages)\n",
      "WARNING: Ignoring invalid distribution -pype1 (c:\\users\\user\\anaconda3\\lib\\site-packages)\n",
      "WARNING: Ignoring invalid distribution -pype1 (c:\\users\\user\\anaconda3\\lib\\site-packages)\n",
      "WARNING: Ignoring invalid distribution -pype1 (c:\\users\\user\\anaconda3\\lib\\site-packages)\n",
      "WARNING: Ignoring invalid distribution -pype1 (c:\\users\\user\\anaconda3\\lib\\site-packages)\n"
     ]
    }
   ],
   "source": [
    "!pip install selenium"
   ]
  },
  {
   "cell_type": "code",
   "execution_count": 30,
   "id": "ffa4ce77",
   "metadata": {},
   "outputs": [],
   "source": [
    "from selenium import webdriver\n",
    "from selenium.webdriver import Chrome\n",
    "import time \n",
    "import sqlite3\n",
    "import os\n",
    "from pandas.io import sql\n",
    "import pandas as pd"
   ]
  },
  {
   "cell_type": "code",
   "execution_count": 31,
   "id": "4a8cbdef",
   "metadata": {},
   "outputs": [],
   "source": [
    "def db_save(ARTICLE_LIST):\n",
    "    with sqlite3.connect(os.path.join('.','data_go_kr_DB')) as con: # sqlite DB 파일이 존재하지 않는 경우 파일생성\n",
    "        try:\n",
    "            ARTICLE_LIST.to_sql(name = 'ARTICLE_LIST', con = con, index = False, if_exists='append') \n",
    "            #if_exists : {'fail', 'replace', 'append'} default : fail\n",
    "        except Exception as e:\n",
    "            print(str(e))\n",
    "        print(len(ARTICLE_LIST), '건 저장완료..')"
   ]
  },
  {
   "cell_type": "code",
   "execution_count": 73,
   "id": "9c1f065b",
   "metadata": {},
   "outputs": [
    {
     "name": "stdout",
     "output_type": "stream",
     "text": [
      "table ARTICLE_LIST has no column named TIME\n",
      "3 건 저장완료..\n",
      "table ARTICLE_LIST has no column named NAME\n",
      "3 건 저장완료..\n"
     ]
    }
   ],
   "source": [
    "# 셀레늄의 웹 드라이버로 크롬 열기\n",
    "options = webdriver.ChromeOptions()\n",
    "options.add_argument(\"--start-maximized\")\n",
    "\n",
    "browser = webdriver.Chrome('chromedriver', options = options)\n",
    "\n",
    "\n",
    "# 원하는 페이지로 이동\n",
    "browser.get('http://gbiga.onilifo.co.kr/')\n",
    "browser.implicitly_wait(3)\n",
    "\n",
    "# 로그인 창 열기\n",
    "browser.find_element_by_xpath('/html/body/div[1]/div[1]/div[2]/ul/li[6]/ul/li/a').click()\n",
    "browser.implicitly_wait(3)\n",
    "\n",
    "# 로그인 하기\n",
    "import json\n",
    "with open('account.json', 'r') as f:\n",
    "    json_data = json.load(f)\n",
    "browser.find_element_by_xpath('//*[@id=\"username\"]').send_keys(json_data['pid'])\n",
    "browser.find_element_by_xpath('//*[@id=\"password\"]').send_keys(json_data['pwd'])\n",
    "browser.find_element_by_xpath('//*[@id=\"btn-login\"]').click()\n",
    "browser.implicitly_wait(3)\n",
    "\n",
    "# 작업 수행하기 (수강신청 목록 보기)\n",
    "browser.find_element_by_xpath('//*[@id=\"link-registration\"]').click()\n",
    "browser.implicitly_wait(3)\n",
    "\n",
    "sect1 = browser.find_elements_by_xpath('/html/body/div[1]/div[3]/div/div[3]/ul/li')\n",
    "df_list1 = []\n",
    "for s in sect1:\n",
    "    df = pd.DataFrame({\n",
    "        'TITLE' : [s.find_element_by_xpath('div/div/div[2]/h1').text],\n",
    "        'TIME' : [s.find_element_by_xpath('div/div/div[2]/div/p').text]\n",
    "    })\n",
    "    df_list1.append(df)\n",
    "sub_list1 = pd.concat(df_list1)\n",
    "db_save(sub_list1)\n",
    "\n",
    "sect2 = browser.find_elements_by_xpath('/html/body/div[1]/div[3]/div/div')\n",
    "df_list2 = []\n",
    "for s in sect2:\n",
    "    try: # 가장 힘들었던 부분 : 알고보니 마지막 div에는 NAME에 해당하는 제목이 없어서 문제가 발생 -> try ~ except 구문으로 처리..\n",
    "        df = pd.DataFrame({\n",
    "            'NAME' : [s.find_element_by_xpath('div[1]/h1').text]\n",
    "        })\n",
    "        df_list2.append(df)\n",
    "    except:\n",
    "        pass\n",
    "sub_list2 = pd.concat(df_list2)\n",
    "db_save(sub_list2)"
   ]
  },
  {
   "cell_type": "code",
   "execution_count": 74,
   "id": "5f049217",
   "metadata": {
    "scrolled": true
   },
   "outputs": [
    {
     "data": {
      "text/html": [
       "<div>\n",
       "<style scoped>\n",
       "    .dataframe tbody tr th:only-of-type {\n",
       "        vertical-align: middle;\n",
       "    }\n",
       "\n",
       "    .dataframe tbody tr th {\n",
       "        vertical-align: top;\n",
       "    }\n",
       "\n",
       "    .dataframe thead th {\n",
       "        text-align: right;\n",
       "    }\n",
       "</style>\n",
       "<table border=\"1\" class=\"dataframe\">\n",
       "  <thead>\n",
       "    <tr style=\"text-align: right;\">\n",
       "      <th></th>\n",
       "      <th>TITLE</th>\n",
       "      <th>TIME</th>\n",
       "    </tr>\n",
       "  </thead>\n",
       "  <tbody>\n",
       "    <tr>\n",
       "      <th>0</th>\n",
       "      <td>[07.06(화)] 데이터에 대한 이해와 정형데이터 다루기(모델링)_A</td>\n",
       "      <td>1시간 46분</td>\n",
       "    </tr>\n",
       "    <tr>\n",
       "      <th>0</th>\n",
       "      <td>[07.16(금)] SQL을 이용한 정형데이터 다루기(SQL기초)_A</td>\n",
       "      <td>2시간 37분</td>\n",
       "    </tr>\n",
       "    <tr>\n",
       "      <th>0</th>\n",
       "      <td>[07.08(목)] R로 배우는 데이터분석 이해(통계기초이론)_A</td>\n",
       "      <td>1시간 22분</td>\n",
       "    </tr>\n",
       "  </tbody>\n",
       "</table>\n",
       "</div>"
      ],
      "text/plain": [
       "                                     TITLE     TIME\n",
       "0  [07.06(화)] 데이터에 대한 이해와 정형데이터 다루기(모델링)_A  1시간 46분\n",
       "0   [07.16(금)] SQL을 이용한 정형데이터 다루기(SQL기초)_A  2시간 37분\n",
       "0     [07.08(목)] R로 배우는 데이터분석 이해(통계기초이론)_A  1시간 22분"
      ]
     },
     "execution_count": 74,
     "metadata": {},
     "output_type": "execute_result"
    }
   ],
   "source": [
    "sub_list1"
   ]
  },
  {
   "cell_type": "code",
   "execution_count": 75,
   "id": "dde37033",
   "metadata": {},
   "outputs": [
    {
     "data": {
      "text/html": [
       "<div>\n",
       "<style scoped>\n",
       "    .dataframe tbody tr th:only-of-type {\n",
       "        vertical-align: middle;\n",
       "    }\n",
       "\n",
       "    .dataframe tbody tr th {\n",
       "        vertical-align: top;\n",
       "    }\n",
       "\n",
       "    .dataframe thead th {\n",
       "        text-align: right;\n",
       "    }\n",
       "</style>\n",
       "<table border=\"1\" class=\"dataframe\">\n",
       "  <thead>\n",
       "    <tr style=\"text-align: right;\">\n",
       "      <th></th>\n",
       "      <th>NAME</th>\n",
       "    </tr>\n",
       "  </thead>\n",
       "  <tbody>\n",
       "    <tr>\n",
       "      <th>0</th>\n",
       "      <td>공공빅데이터 Overview</td>\n",
       "    </tr>\n",
       "    <tr>\n",
       "      <th>0</th>\n",
       "      <td>공공 빅데이터 리허설</td>\n",
       "    </tr>\n",
       "    <tr>\n",
       "      <th>0</th>\n",
       "      <td>분석가를 위한 데이터역량</td>\n",
       "    </tr>\n",
       "  </tbody>\n",
       "</table>\n",
       "</div>"
      ],
      "text/plain": [
       "              NAME\n",
       "0  공공빅데이터 Overview\n",
       "0      공공 빅데이터 리허설\n",
       "0    분석가를 위한 데이터역량"
      ]
     },
     "execution_count": 75,
     "metadata": {},
     "output_type": "execute_result"
    }
   ],
   "source": [
    "sub_list2"
   ]
  }
 ],
 "metadata": {
  "kernelspec": {
   "display_name": "Python 3",
   "language": "python",
   "name": "python3"
  },
  "language_info": {
   "codemirror_mode": {
    "name": "ipython",
    "version": 3
   },
   "file_extension": ".py",
   "mimetype": "text/x-python",
   "name": "python",
   "nbconvert_exporter": "python",
   "pygments_lexer": "ipython3",
   "version": "3.8.8"
  }
 },
 "nbformat": 4,
 "nbformat_minor": 5
}
