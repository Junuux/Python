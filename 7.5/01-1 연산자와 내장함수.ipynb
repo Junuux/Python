{
 "cells": [
  {
   "cell_type": "code",
   "execution_count": null,
   "id": "fcb81ecb-21cd-4b20-8543-029a65983d45",
   "metadata": {
    "tags": []
   },
   "outputs": [],
   "source": [
    "2 +4"
   ]
  },
  {
   "cell_type": "code",
   "execution_count": null,
   "id": "87047a4d-8e0b-4291-b6c7-5b0eae6ed847",
   "metadata": {},
   "outputs": [],
   "source": [
    "4-2"
   ]
  },
  {
   "cell_type": "code",
   "execution_count": null,
   "id": "72025deb-a4d1-4997-81fc-a057770543cf",
   "metadata": {},
   "outputs": [],
   "source": [
    "2*4"
   ]
  },
  {
   "cell_type": "code",
   "execution_count": null,
   "id": "f8951929-98bc-4a5b-ae1c-216a3f7403e5",
   "metadata": {},
   "outputs": [],
   "source": [
    "4/2"
   ]
  },
  {
   "cell_type": "code",
   "execution_count": null,
   "id": "dfe7b51c-651f-4b5e-ab52-a1f7711286e5",
   "metadata": {},
   "outputs": [],
   "source": [
    "4**2"
   ]
  },
  {
   "cell_type": "code",
   "execution_count": null,
   "id": "52f6546c-94bb-4aec-a61c-a3e334cbc610",
   "metadata": {},
   "outputs": [],
   "source": [
    "7/2"
   ]
  },
  {
   "cell_type": "code",
   "execution_count": null,
   "id": "e7d80a91-462b-4ce9-9ab0-d9227fe7f473",
   "metadata": {},
   "outputs": [],
   "source": [
    "7//2"
   ]
  },
  {
   "cell_type": "code",
   "execution_count": null,
   "id": "783ae6a9-d2a5-4695-915d-fb4b4c76776d",
   "metadata": {},
   "outputs": [],
   "source": [
    "7%2"
   ]
  },
  {
   "cell_type": "code",
   "execution_count": null,
   "id": "8a1f0f84-822e-4683-b62d-cfec76b19c05",
   "metadata": {},
   "outputs": [],
   "source": [
    "# ctrl / : 주석 없애기"
   ]
  },
  {
   "cell_type": "code",
   "execution_count": null,
   "id": "97c0cb46-6019-4298-9122-3924838626b1",
   "metadata": {},
   "outputs": [],
   "source": [
    "'''\n",
    "주석입니다\n",
    "'''\n",
    "print(1)"
   ]
  },
  {
   "cell_type": "code",
   "execution_count": null,
   "id": "ea6f1257-b72e-4ef6-8ebc-46a73e97cfb6",
   "metadata": {},
   "outputs": [],
   "source": [
    "# 파이썬 들여쓰기 (tab 보다는 spacebar 4번으로 권장)\n",
    "\n",
    "a = True\n",
    "if a :\n",
    "    print('True') # tab\n",
    "else:\n",
    "    print('False')"
   ]
  },
  {
   "cell_type": "code",
   "execution_count": null,
   "id": "a297689e-86cf-4fe4-ac89-9ff74cfa12fd",
   "metadata": {},
   "outputs": [],
   "source": [
    "# 파이썬 들여쓰기 (tab 보다는 spacebar 4번으로 권장)\n",
    "a = True\n",
    "if a : # 코드블록의 시작은 클론\n",
    "    print('True') # spacebar\n",
    "else:\n",
    "    print('False')"
   ]
  },
  {
   "cell_type": "code",
   "execution_count": null,
   "id": "26991f65-9708-4c2b-8dc8-af89efc592f0",
   "metadata": {},
   "outputs": [],
   "source": [
    "# 예약어 : 파이썬 문법에서 이미 예약어로 사용하므로 개발자가 변수명 함수명 등 식별자로 사용 불가\n",
    "True = 1"
   ]
  },
  {
   "cell_type": "code",
   "execution_count": null,
   "id": "03373f78-7569-4c71-a996-0c17fee92050",
   "metadata": {},
   "outputs": [],
   "source": [
    "# print 함수\n",
    "print('Hello World Pyhton')\n",
    "print('a',1)\n",
    "print('a',1,sep=\":\")\n",
    "print('a',1,sep=\":\")\n"
   ]
  },
  {
   "cell_type": "code",
   "execution_count": null,
   "id": "d7fca835-bec4-4b2b-8080-26189f151141",
   "metadata": {},
   "outputs": [],
   "source": [
    "hello = 'Hello World'"
   ]
  },
  {
   "cell_type": "code",
   "execution_count": null,
   "id": "df3ef601-63b3-482f-a7c7-3e0bf0feb11a",
   "metadata": {},
   "outputs": [],
   "source": [
    "hello\n",
    "hello"
   ]
  },
  {
   "cell_type": "code",
   "execution_count": null,
   "id": "3154eb9e-a202-46ca-a707-6fbcdcf32064",
   "metadata": {},
   "outputs": [],
   "source": [
    "print('hello')"
   ]
  },
  {
   "cell_type": "code",
   "execution_count": null,
   "id": "f9be2fd6-ce40-426a-8906-6443d2bf5db7",
   "metadata": {
    "tags": []
   },
   "outputs": [],
   "source": [
    "# round 함수 : 반올림 함수\n",
    "round(3.151592)"
   ]
  },
  {
   "cell_type": "code",
   "execution_count": null,
   "id": "0ea28489-5960-4cd8-84fa-26e6eabc992b",
   "metadata": {
    "tags": []
   },
   "outputs": [],
   "source": [
    "round(3.141592,2)"
   ]
  },
  {
   "cell_type": "code",
   "execution_count": null,
   "id": "79daf7a2-586e-47c2-bf51-801dbf9682b6",
   "metadata": {},
   "outputs": [],
   "source": [
    "round(3.141592,3)"
   ]
  },
  {
   "cell_type": "code",
   "execution_count": null,
   "id": "64877fd2-58db-4b97-a472-5c902d510de7",
   "metadata": {},
   "outputs": [],
   "source": [
    "# 기타 내장함수\n",
    "\n",
    "print(max(10,20,30))\n",
    "print(min(10,20,30)) \n",
    "print(pow(2, 4)) # 2**4\n",
    "print(len('Hello World')) # 길이"
   ]
  },
  {
   "cell_type": "code",
   "execution_count": null,
   "id": "e6032c7e-993b-430d-bc7c-9e2faf0baf44",
   "metadata": {},
   "outputs": [],
   "source": []
  }
 ],
 "metadata": {
  "kernelspec": {
   "display_name": "Python 3",
   "language": "python",
   "name": "python3"
  },
  "language_info": {
   "codemirror_mode": {
    "name": "ipython",
    "version": 3
   },
   "file_extension": ".py",
   "mimetype": "text/x-python",
   "name": "python",
   "nbconvert_exporter": "python",
   "pygments_lexer": "ipython3",
   "version": "3.8.8"
  }
 },
 "nbformat": 4,
 "nbformat_minor": 5
}
